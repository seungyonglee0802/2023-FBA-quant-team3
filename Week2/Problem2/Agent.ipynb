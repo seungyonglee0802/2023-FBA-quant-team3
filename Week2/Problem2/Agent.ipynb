{
 "cells": [
  {
   "attachments": {},
   "cell_type": "markdown",
   "metadata": {},
   "source": [
    "(a)\n",
    "Make an ‘agent’ class with the ‘name’, ‘credit’, ‘holdings’, and ‘stock_data’ as object variables in\n",
    "‘Agent.py’.\n",
    "\n",
    "\n",
    "(b)\n",
    "Make a ‘trading’ method that if the price rises for two consecutive days, then buy as much as one\n",
    "can and if the price goes down after bought it, then sell all. No action is taken in other cases. Both\n",
    "‘credit’ and ‘holdings’ should change. If the agent receives daily stock prices, then save it to ‘stock_data’."
   ]
  },
  {
   "cell_type": "code",
   "execution_count": null,
   "metadata": {},
   "outputs": [],
   "source": [
    "import numpy as np\n",
    "import pandas as pd"
   ]
  },
  {
   "cell_type": "code",
   "execution_count": null,
   "metadata": {},
   "outputs": [],
   "source": [
    "class Agent:\n",
    "\n",
    "    def __init__ (self, name=\"The agent\"):\n",
    "        '''create a agent with given name having $1000\n",
    "        \n",
    "        Arguments\n",
    "        name [str]: name of the agent (default: The agent)\n",
    "        '''\n",
    "        self._name = name\n",
    "        self._credit = 1000\n",
    "        self._holdings = pd.DataFrame(index=[\"avg_price\", \"num\"], dtype=\"float\")\n",
    "        self._stock_data = {}\n",
    "        self._today_stock_data = {}\n",
    "\n",
    "        print(f\"{self._name} is created.\")\n",
    "\n",
    "    def check(self):\n",
    "    \n",
    "        '''print current state(credit and holdings) of the agent\n",
    "        '''\n",
    "        print(f\"credit : {self._credit}\")\n",
    "        print(f\"holding : {self.df_to_list(self._holdings)}\")\n",
    "    \n",
    "    def recieve_stock_data(self, new_stock_data: list):\n",
    "        '''update self._stock_data DataFrame from given new_stock_data\n",
    "\n",
    "        Arguments\n",
    "        new_stock_data [list(list(str, float))]: i.e., [[\"APPL\", 143.1], [\"GOOGL\", 500.2]]\n",
    "        '''\n",
    "        self.update_stock_data(new_stock_data)\n",
    "        self._today_stock_data = dict(new_stock_data)\n",
    "\n",
    "    def buy(self, buy_inform : list):\n",
    "        '''buy stocks according to buy_inform\n",
    "\n",
    "        Arguments\n",
    "        buy_inform [list]: information of the stock to buy [ticker : str, price : float|int, quantity : int]\n",
    "        '''\n",
    "        ticker, price, quantity = buy_inform\n",
    "\n",
    "        if not quantity > 0:\n",
    "            return\n",
    "\n",
    "        if price*quantity > self._credit:\n",
    "            print(f\"{self._name} can't buy.\")\n",
    "            return\n",
    "        \n",
    "        if ticker in self._holdings.columns:\n",
    "            ticker_holdings = self._holdings[ticker]\n",
    "            prev_avg_price = ticker_holdings[\"avg_price\"]\n",
    "            prev_num = ticker_holdings[\"num\"]\n",
    "            ticker_holdings[\"avg_price\"] = (prev_avg_price*prev_num + price*quantity)/(prev_num + quantity)\n",
    "            ticker_holdings[\"num\"] += quantity\n",
    "        else:\n",
    "            self._holdings[ticker] = [price, quantity]\n",
    "\n",
    "        self._credit -= price*quantity\n",
    "\n",
    "        print(f\"{self._name} buys {int(quantity)} {ticker} for {price}.\")\n",
    "        return\n",
    "\n",
    "    def sell(self, sell_inform : list):\n",
    "        '''sell stocks according to sell_inform\n",
    "\n",
    "        Arguments\n",
    "        sell_inform [list]: information of the stock to sell [ticker : str, price : float|int, quantity : int]\n",
    "        '''\n",
    "        ticker, price, quantity = sell_inform\n",
    "\n",
    "        if not quantity > 0:\n",
    "            return\n",
    "\n",
    "        if not ticker in self._holdings.columns or quantity > self._holdings[ticker][\"num\"]:\n",
    "            print(f\"{self._name} can't sell.\")\n",
    "            return\n",
    "        \n",
    "        ticker_holdings = self._holdings[ticker]\n",
    "        ticker_holdings[\"num\"] -= quantity\n",
    "        if ticker_holdings[\"num\"] == 0:\n",
    "            print(\"drop\")\n",
    "            self._holdings.drop(columns=[ticker], inplace=True)\n",
    "        self._credit += price*quantity\n",
    "\n",
    "        print(f\"{self._name} sells {int(quantity)} {ticker} for {price}.\")\n",
    "        return\n",
    "\n",
    "    def trading(self, strategy, **kwargs):\n",
    "        '''trade w.r.t given strategy\n",
    "        strategy can get arguments by kwargs\n",
    "\n",
    "        Parameters\n",
    "        strategy [func]: function that return a normalized vector that indicates\n",
    "        to buy or sell each stock\n",
    "        '''\n",
    "        strategy_result = strategy(self._today_stock_data, self._stock_data, **kwargs)\n",
    "        assert len(self._stock_data.keys()) == len(strategy_result)\n",
    "\n",
    "        for ticker, order in zip(self._stock_data.keys(), strategy_result):\n",
    "            if order == 1:\n",
    "                price = self._today_stock_data[ticker]\n",
    "                max_quantity = self._credit // price\n",
    "                if max_quantity > 0:\n",
    "                    self.buy([ticker, price, max_quantity])\n",
    "                    return ticker, price, max_quantity\n",
    "            elif order == -1 and ticker in self._holdings:\n",
    "                price = self._today_stock_data[ticker]\n",
    "                max_quantity = self._holdings[ticker][\"num\"]\n",
    "                if max_quantity > 0:\n",
    "                    self.sell([ticker, price, max_quantity])\n",
    "                    return ticker, price, max_quantity\n",
    "            else:\n",
    "                pass\n",
    "        \n",
    "        return None\n",
    "\n",
    "    def update_stock_data(self, new_stock_data):\n",
    "        '''update _stock_data [dict] w.r.t new_stock_data\n",
    "\n",
    "        Parameters\n",
    "        new_stock_data [list]: [list(list(str, float))]: i.e., [[\"APPL\", 143.1], [\"GOOGL\", 500.2]]\n",
    "        '''\n",
    "        for ticker, price in new_stock_data:\n",
    "            if ticker in self._stock_data.keys():\n",
    "                self._stock_data[ticker].append(price)\n",
    "            else:\n",
    "                self._stock_data[ticker] = [price]\n",
    "    \n",
    "    def df_to_list(self, df: pd.DataFrame):\n",
    "        '''convert dataframe object to list\n",
    "\n",
    "        Arguments\n",
    "        df [pd.DataFrame]: DataFrame of holdings (index: avg_price, num; columns: tickers)\n",
    "        '''\n",
    "        return [[ticker] + df[ticker].tolist() for ticker in df.columns]"
   ]
  },
  {
   "cell_type": "code",
   "execution_count": null,
   "metadata": {},
   "outputs": [],
   "source": [
    "def consecutive_strategy_single(historical_stock_data: list, consec_inc: int, consec_dec: int):\n",
    "    '''consecutive strategy method for a single stock(ticker)\n",
    "    buy all if the price rises for consec_inc consecutive days\n",
    "    sell all if the price goes down for consec_dec consecutive days\n",
    "\n",
    "    Parameter\n",
    "    historical_stock_data [list]: historical stock price data including today\n",
    "    consec_inc [int]: consecutive increasing days\n",
    "    consec_dec [int]: consecutive decreasing days\n",
    "    '''\n",
    "    if len(historical_stock_data) > consec_inc:\n",
    "        if np.all(np.diff(np.array(historical_stock_data[-consec_inc-1:]))>0):\n",
    "            return 1\n",
    "    \n",
    "    if len(historical_stock_data) > consec_dec:\n",
    "        if np.all(np.diff(np.array(historical_stock_data[-consec_dec-1:]))<0):\n",
    "            return -1\n",
    "    \n",
    "    return 0\n",
    "\n",
    "def consecutive_strategy(today_stock_data: dict, historical_stock_data: dict, **kwargs):\n",
    "    '''accumulate consecutive strategy methods for all stocks that have today's data\n",
    "\n",
    "    Parameter\n",
    "    today_stock_data [dict]: today stock data to get tradable stocks\n",
    "    historical_stock_data [dict]: historical price data\n",
    "    '''\n",
    "    strategy_vector = []\n",
    "    for key in today_stock_data.keys():\n",
    "        strategy_vector.append(consecutive_strategy_single(historical_stock_data[key], **kwargs))\n",
    "    return strategy_vector"
   ]
  },
  {
   "cell_type": "code",
   "execution_count": null,
   "metadata": {},
   "outputs": [],
   "source": [
    "agent1 = Agent()"
   ]
  },
  {
   "cell_type": "code",
   "execution_count": null,
   "metadata": {},
   "outputs": [],
   "source": [
    "agent1.recieve_stock_data([[\"APPL\", 123.2]])"
   ]
  },
  {
   "cell_type": "code",
   "execution_count": null,
   "metadata": {},
   "outputs": [],
   "source": [
    "agent1.recieve_stock_data([[\"APPL\", 125.2]])\n",
    "agent1.trading(consecutive_strategy, consec_inc=2, consec_dec=1)"
   ]
  },
  {
   "cell_type": "code",
   "execution_count": null,
   "metadata": {},
   "outputs": [],
   "source": [
    "agent1.recieve_stock_data([[\"APPL\", 126.2]])\n",
    "agent1.trading(consecutive_strategy, consec_inc=2, consec_dec=1)"
   ]
  },
  {
   "cell_type": "code",
   "execution_count": null,
   "metadata": {},
   "outputs": [],
   "source": [
    "agent1.recieve_stock_data([[\"APPL\", 127.2]])\n",
    "agent1.trading(consecutive_strategy, consec_inc=2, consec_dec=1)"
   ]
  },
  {
   "cell_type": "code",
   "execution_count": null,
   "metadata": {},
   "outputs": [],
   "source": [
    "agent1.recieve_stock_data([[\"APPL\", 124.2]])\n",
    "agent1.trading(consecutive_strategy, consec_inc=2, consec_dec=1)"
   ]
  },
  {
   "cell_type": "code",
   "execution_count": null,
   "metadata": {},
   "outputs": [],
   "source": [
    "agent1.recieve_stock_data([[\"APPL\", 121.2]])\n",
    "agent1.trading(consecutive_strategy, consec_inc=2, consec_dec=1)"
   ]
  },
  {
   "cell_type": "code",
   "execution_count": null,
   "metadata": {},
   "outputs": [],
   "source": [
    "agent1.check()"
   ]
  }
 ],
 "metadata": {
  "kernelspec": {
   "display_name": "Python 3",
   "language": "python",
   "name": "python3"
  },
  "language_info": {
   "codemirror_mode": {
    "name": "ipython",
    "version": 3
   },
   "file_extension": ".py",
   "mimetype": "text/x-python",
   "name": "python",
   "nbconvert_exporter": "python",
   "pygments_lexer": "ipython3",
   "version": "3.7.9"
  },
  "orig_nbformat": 4,
  "vscode": {
   "interpreter": {
    "hash": "aee8b7b246df8f9039afb4144a1f6fd8d2ca17a180786b69acc140d282b71a49"
   }
  }
 },
 "nbformat": 4,
 "nbformat_minor": 2
}
