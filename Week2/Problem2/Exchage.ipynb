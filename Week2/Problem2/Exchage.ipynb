{
 "cells": [
  {
   "attachments": {},
   "cell_type": "markdown",
   "metadata": {},
   "source": [
    "(c) Make an ‘Exchange.py’ file with the ‘stock_data’ and ‘log_data’ as object variables. The\n",
    "‘FBA_agent’ object is generated and sends the daily stock prices to the agent through a repeat statement\n",
    "when run the ‘Exchange.py’ file added ‘stock_data.csv’ by config.\n",
    "\n",
    "(d) When the agent sells or buys stocks, it automatically records them in the format of dataframes in\n",
    "‘log_data’, and when the simulation ends, it stores the recorded dataframes as ‘log_data.csv’"
   ]
  },
  {
   "cell_type": "code",
   "execution_count": 20,
   "metadata": {},
   "outputs": [],
   "source": [
    "from ipynb.fs.full.Agent import Agent"
   ]
  },
  {
   "cell_type": "code",
   "execution_count": 14,
   "metadata": {},
   "outputs": [
    {
     "name": "stdout",
     "output_type": "stream",
     "text": [
      "FBA_agent is created.\n"
     ]
    }
   ],
   "source": [
    "FBA_agent = Agent(\"FBA_agent\")"
   ]
  },
  {
   "cell_type": "code",
   "execution_count": null,
   "metadata": {},
   "outputs": [],
   "source": [
    "# read stock_data.csv by config"
   ]
  },
  {
   "cell_type": "code",
   "execution_count": null,
   "metadata": {},
   "outputs": [],
   "source": [
    "# send daily stock price to the agent\n",
    "# when get return from agent, log it in log_data [DataFrame]"
   ]
  },
  {
   "cell_type": "code",
   "execution_count": null,
   "metadata": {},
   "outputs": [],
   "source": [
    "# turn log_data to log_data.csv and save it"
   ]
  }
 ],
 "metadata": {
  "kernelspec": {
   "display_name": "Python 3",
   "language": "python",
   "name": "python3"
  },
  "language_info": {
   "codemirror_mode": {
    "name": "ipython",
    "version": 3
   },
   "file_extension": ".py",
   "mimetype": "text/x-python",
   "name": "python",
   "nbconvert_exporter": "python",
   "pygments_lexer": "ipython3",
   "version": "3.7.9"
  },
  "orig_nbformat": 4,
  "vscode": {
   "interpreter": {
    "hash": "aee8b7b246df8f9039afb4144a1f6fd8d2ca17a180786b69acc140d282b71a49"
   }
  }
 },
 "nbformat": 4,
 "nbformat_minor": 2
}
