{
 "cells": [
  {
   "cell_type": "code",
   "execution_count": 6,
   "metadata": {},
   "outputs": [],
   "source": [
    "import time\n",
    "from datetime import datetime\n",
    "\n",
    "import pandas as pd\n",
    "from sqlalchemy import create_engine\n",
    "\n",
    "class QDP:\n",
    "\n",
    "    def __init__(self, host, user, passward, database, port):\n",
    "        \"\"\"QDP SQL DATABASE\n",
    "\n",
    "        Args:\n",
    "            host (str): host ip\n",
    "            user (str): user id\n",
    "            passward (str): user passward\n",
    "            database (str): name of database\n",
    "            port (int): port\n",
    "\n",
    "        Note:\n",
    "            Database is a part of QDP project.\n",
    "            It's a property of FBA Quant.\n",
    "        \"\"\"\n",
    "        self.__sql_engine  = create_engine(\"mysql+pymysql://{user}:{pw}@{host}:{port}/{db}\".format(\n",
    "                                                                                                    user=user,\n",
    "                                                                                                    pw=passward,\n",
    "                                                                                                    host=host,\n",
    "                                                                                                    port=port,\n",
    "                                                                                                    db=database\n",
    "                                                                                                )\n",
    "                                        )                                       \n",
    "\n",
    "    @property\n",
    "    def table(self):\n",
    "        command = \"SHOW TABLE STATUS\"\n",
    "        df = pd.read_sql_query(sql=command, con=self.__sql_engine)\n",
    "        return df\n",
    "    \n",
    "    @staticmethod\n",
    "    def now(format=\"%Y:%m:%d %H:%M:%S.%f\"):\n",
    "        return datetime.fromtimestamp(time.time()).strftime(format)\n",
    "\n",
    "    def get(self, table, symbols=None, columns=None, start=None, end=None, symbol_check=True):\n",
    "        \"\"\"Get Method\n",
    "\n",
    "        Args:\n",
    "            table (str): name of DB table\n",
    "            symbols (list): list of symbols\n",
    "            columns (list): list of columns\n",
    "            start (DATE or DATETIME): %Y-%m-%d\n",
    "            end (DATE or DATETIM): %Y-%m-%d\n",
    "            symbol_check (bool): if True, checks whether the required symbols are in the table or not\n",
    "        \n",
    "        Returns:\n",
    "            pd.DataFrame\n",
    "        \"\"\"\n",
    "\n",
    "        # Manual limit of frequent queries... TODO --> 서버단위의 Query Limit 생성?\n",
    "        time.sleep(0.25)\n",
    "\n",
    "        # TypeChecking\n",
    "        if type(symbols) != type(None) and type(symbols) != list:\n",
    "            raise TypeError(\"symbols must be list\")\n",
    "        if type(columns) != type(None) and type(columns) != list:\n",
    "            raise TypeError(\"columns must be list\")\n",
    "\n",
    "        # The code below returns Exception if the queried symbol doesn't exist in the TABLE\n",
    "        if symbol_check:\n",
    "            not_exist_symbol = []\n",
    "            command = \"SELECT DISTINCT SYMBOL FROM {table}\".format(table=table)\n",
    "            exist_symbol = set(pd.read_sql_query(sql=command, con=self.__sql_engine)[\"SYMBOL\"])\n",
    "            for symbol in symbols:\n",
    "                if symbol not in exist_symbol:\n",
    "                    not_exist_symbol.append(symbol)\n",
    "            if len(not_exist_symbol) != 0:\n",
    "                raise Exception(\"{} doesn't exist in {table}\".format(not_exist_symbol, table=table))\n",
    "\n",
    "        # Replace arguments for SQL query\n",
    "        if type(symbols) == type(None):\n",
    "            symbols = \"*\"\n",
    "        else:\n",
    "            symbols = str(symbols).replace(\"[\",\"(\").replace(\"]\",\")\")\n",
    "\n",
    "        if type(columns) == type(None):\n",
    "            columns = \"*\"\n",
    "        else:\n",
    "            columns = [\"DATE\", \"SYMBOL\"] + columns\n",
    "            columns = str(columns).replace(\"[\",\"(\").replace(\"]\",\")\").replace(\"'\",\"\")\n",
    "\n",
    "        if type(start) == type(None):\n",
    "            start = self.now(\"%Y-%m-%d\")\n",
    "        if type(end) == type(None):\n",
    "            end = self.now(\"%Y-%m-%d\")\n",
    "\n",
    "        # SQL Query\n",
    "        command = \"SELECT {columns} FROM {table} \".format(columns=columns, table=table)\n",
    "\n",
    "        if symbols != \"*\":\n",
    "            command = command + \"WHERE SYMBOL in {symbols} \".format(symbols=symbols)\n",
    "        \n",
    "        if \"WHERE\" in command:\n",
    "            command = command + \"AND DATE BETWEEN '{start}' AND '{end}'\".format(start=start, end=end)\n",
    "        else:\n",
    "            command = + \"WHERE DATE BETWEEN '{start}' AND '{end}'\".format(start=start, end=end)\n",
    "\n",
    "        # Run the SQL command\n",
    "        df = pd.read_sql_query(sql=command, con=self.__sql_engine)\n",
    "\n",
    "        return df"
   ]
  },
  {
   "cell_type": "code",
   "execution_count": 7,
   "metadata": {},
   "outputs": [],
   "source": [
    "# Initiate\n",
    "qdp = QDP(\n",
    "    host=\"39.123.37.56\",\n",
    "    user =\"QDPUSER\",\n",
    "    passward=\"Fbaquant1#\",\n",
    "    database=\"QDP\",\n",
    "    port=3307\n",
    ")"
   ]
  },
  {
   "cell_type": "code",
   "execution_count": 9,
   "metadata": {},
   "outputs": [
    {
     "ename": "TypeError",
     "evalue": "__init__() got multiple values for argument 'schema'",
     "output_type": "error",
     "traceback": [
      "\u001b[0;31m---------------------------------------------------------------------------\u001b[0m",
      "\u001b[0;31mTypeError\u001b[0m                                 Traceback (most recent call last)",
      "\u001b[0;32m/var/folders/f2/1vr2b5pn0q141ggbdmq71nvm0000gn/T/ipykernel_49056/2260543919.py\u001b[0m in \u001b[0;36m<module>\u001b[0;34m\u001b[0m\n\u001b[1;32m      4\u001b[0m     \u001b[0msymbols\u001b[0m\u001b[0;34m=\u001b[0m\u001b[0;34m[\u001b[0m\u001b[0;34m\"A005930\"\u001b[0m\u001b[0;34m]\u001b[0m\u001b[0;34m,\u001b[0m\u001b[0;34m\u001b[0m\u001b[0;34m\u001b[0m\u001b[0m\n\u001b[1;32m      5\u001b[0m     \u001b[0mstart\u001b[0m\u001b[0;34m=\u001b[0m\u001b[0;34m\"2022-01-01\"\u001b[0m\u001b[0;34m,\u001b[0m\u001b[0;34m\u001b[0m\u001b[0;34m\u001b[0m\u001b[0m\n\u001b[0;32m----> 6\u001b[0;31m     \u001b[0mend\u001b[0m\u001b[0;34m=\u001b[0m\u001b[0;34m\"2022-02-01\"\u001b[0m\u001b[0;34m\u001b[0m\u001b[0;34m\u001b[0m\u001b[0m\n\u001b[0m\u001b[1;32m      7\u001b[0m )\n",
      "\u001b[0;32m/var/folders/f2/1vr2b5pn0q141ggbdmq71nvm0000gn/T/ipykernel_49056/1936264797.py\u001b[0m in \u001b[0;36mget\u001b[0;34m(self, table, symbols, columns, start, end, symbol_check)\u001b[0m\n\u001b[1;32m     68\u001b[0m             \u001b[0mnot_exist_symbol\u001b[0m \u001b[0;34m=\u001b[0m \u001b[0;34m[\u001b[0m\u001b[0;34m]\u001b[0m\u001b[0;34m\u001b[0m\u001b[0;34m\u001b[0m\u001b[0m\n\u001b[1;32m     69\u001b[0m             \u001b[0mcommand\u001b[0m \u001b[0;34m=\u001b[0m \u001b[0;34m\"SELECT DISTINCT SYMBOL FROM {table}\"\u001b[0m\u001b[0;34m.\u001b[0m\u001b[0mformat\u001b[0m\u001b[0;34m(\u001b[0m\u001b[0mtable\u001b[0m\u001b[0;34m=\u001b[0m\u001b[0mtable\u001b[0m\u001b[0;34m)\u001b[0m\u001b[0;34m\u001b[0m\u001b[0;34m\u001b[0m\u001b[0m\n\u001b[0;32m---> 70\u001b[0;31m             \u001b[0mexist_symbol\u001b[0m \u001b[0;34m=\u001b[0m \u001b[0mset\u001b[0m\u001b[0;34m(\u001b[0m\u001b[0mpd\u001b[0m\u001b[0;34m.\u001b[0m\u001b[0mread_sql_query\u001b[0m\u001b[0;34m(\u001b[0m\u001b[0msql\u001b[0m\u001b[0;34m=\u001b[0m\u001b[0mcommand\u001b[0m\u001b[0;34m,\u001b[0m \u001b[0mcon\u001b[0m\u001b[0;34m=\u001b[0m\u001b[0mself\u001b[0m\u001b[0;34m.\u001b[0m\u001b[0m__sql_engine\u001b[0m\u001b[0;34m)\u001b[0m\u001b[0;34m[\u001b[0m\u001b[0;34m\"SYMBOL\"\u001b[0m\u001b[0;34m]\u001b[0m\u001b[0;34m)\u001b[0m\u001b[0;34m\u001b[0m\u001b[0;34m\u001b[0m\u001b[0m\n\u001b[0m\u001b[1;32m     71\u001b[0m             \u001b[0;32mfor\u001b[0m \u001b[0msymbol\u001b[0m \u001b[0;32min\u001b[0m \u001b[0msymbols\u001b[0m\u001b[0;34m:\u001b[0m\u001b[0;34m\u001b[0m\u001b[0;34m\u001b[0m\u001b[0m\n\u001b[1;32m     72\u001b[0m                 \u001b[0;32mif\u001b[0m \u001b[0msymbol\u001b[0m \u001b[0;32mnot\u001b[0m \u001b[0;32min\u001b[0m \u001b[0mexist_symbol\u001b[0m\u001b[0;34m:\u001b[0m\u001b[0;34m\u001b[0m\u001b[0;34m\u001b[0m\u001b[0m\n",
      "\u001b[0;32m/Library/Frameworks/Python.framework/Versions/3.7/lib/python3.7/site-packages/pandas/io/sql.py\u001b[0m in \u001b[0;36mread_sql_query\u001b[0;34m(sql, con, index_col, coerce_float, params, parse_dates, chunksize, dtype)\u001b[0m\n\u001b[1;32m    433\u001b[0m     \u001b[0mparameter\u001b[0m \u001b[0mwill\u001b[0m \u001b[0mbe\u001b[0m \u001b[0mconverted\u001b[0m \u001b[0mto\u001b[0m \u001b[0mUTC\u001b[0m\u001b[0;34m.\u001b[0m\u001b[0;34m\u001b[0m\u001b[0;34m\u001b[0m\u001b[0m\n\u001b[1;32m    434\u001b[0m     \"\"\"\n\u001b[0;32m--> 435\u001b[0;31m     \u001b[0mpandas_sql\u001b[0m \u001b[0;34m=\u001b[0m \u001b[0mpandasSQL_builder\u001b[0m\u001b[0;34m(\u001b[0m\u001b[0mcon\u001b[0m\u001b[0;34m)\u001b[0m\u001b[0;34m\u001b[0m\u001b[0;34m\u001b[0m\u001b[0m\n\u001b[0m\u001b[1;32m    436\u001b[0m     return pandas_sql.read_query(\n\u001b[1;32m    437\u001b[0m         \u001b[0msql\u001b[0m\u001b[0;34m,\u001b[0m\u001b[0;34m\u001b[0m\u001b[0;34m\u001b[0m\u001b[0m\n",
      "\u001b[0;32m/Library/Frameworks/Python.framework/Versions/3.7/lib/python3.7/site-packages/pandas/io/sql.py\u001b[0m in \u001b[0;36mpandasSQL_builder\u001b[0;34m(con, schema, meta, is_cursor)\u001b[0m\n\u001b[1;32m    786\u001b[0m     \u001b[0mcon\u001b[0m \u001b[0;34m=\u001b[0m \u001b[0m_engine_builder\u001b[0m\u001b[0;34m(\u001b[0m\u001b[0mcon\u001b[0m\u001b[0;34m)\u001b[0m\u001b[0;34m\u001b[0m\u001b[0;34m\u001b[0m\u001b[0m\n\u001b[1;32m    787\u001b[0m     \u001b[0;32mif\u001b[0m \u001b[0m_is_sqlalchemy_connectable\u001b[0m\u001b[0;34m(\u001b[0m\u001b[0mcon\u001b[0m\u001b[0;34m)\u001b[0m\u001b[0;34m:\u001b[0m\u001b[0;34m\u001b[0m\u001b[0;34m\u001b[0m\u001b[0m\n\u001b[0;32m--> 788\u001b[0;31m         \u001b[0;32mreturn\u001b[0m \u001b[0mSQLDatabase\u001b[0m\u001b[0;34m(\u001b[0m\u001b[0mcon\u001b[0m\u001b[0;34m,\u001b[0m \u001b[0mschema\u001b[0m\u001b[0;34m=\u001b[0m\u001b[0mschema\u001b[0m\u001b[0;34m,\u001b[0m \u001b[0mmeta\u001b[0m\u001b[0;34m=\u001b[0m\u001b[0mmeta\u001b[0m\u001b[0;34m)\u001b[0m\u001b[0;34m\u001b[0m\u001b[0;34m\u001b[0m\u001b[0m\n\u001b[0m\u001b[1;32m    789\u001b[0m     \u001b[0;32melif\u001b[0m \u001b[0misinstance\u001b[0m\u001b[0;34m(\u001b[0m\u001b[0mcon\u001b[0m\u001b[0;34m,\u001b[0m \u001b[0mstr\u001b[0m\u001b[0;34m)\u001b[0m\u001b[0;34m:\u001b[0m\u001b[0;34m\u001b[0m\u001b[0;34m\u001b[0m\u001b[0m\n\u001b[1;32m    790\u001b[0m         \u001b[0;32mraise\u001b[0m \u001b[0mImportError\u001b[0m\u001b[0;34m(\u001b[0m\u001b[0;34m\"Using URI string without sqlalchemy installed.\"\u001b[0m\u001b[0;34m)\u001b[0m\u001b[0;34m\u001b[0m\u001b[0;34m\u001b[0m\u001b[0m\n",
      "\u001b[0;32m/Library/Frameworks/Python.framework/Versions/3.7/lib/python3.7/site-packages/pandas/io/sql.py\u001b[0m in \u001b[0;36m__init__\u001b[0;34m(self, engine, schema, meta)\u001b[0m\n\u001b[1;32m   1408\u001b[0m             \u001b[0;32mfrom\u001b[0m \u001b[0msqlalchemy\u001b[0m\u001b[0;34m.\u001b[0m\u001b[0mschema\u001b[0m \u001b[0;32mimport\u001b[0m \u001b[0mMetaData\u001b[0m\u001b[0;34m\u001b[0m\u001b[0;34m\u001b[0m\u001b[0m\n\u001b[1;32m   1409\u001b[0m \u001b[0;34m\u001b[0m\u001b[0m\n\u001b[0;32m-> 1410\u001b[0;31m             \u001b[0mmeta\u001b[0m \u001b[0;34m=\u001b[0m \u001b[0mMetaData\u001b[0m\u001b[0;34m(\u001b[0m\u001b[0mself\u001b[0m\u001b[0;34m.\u001b[0m\u001b[0mconnectable\u001b[0m\u001b[0;34m,\u001b[0m \u001b[0mschema\u001b[0m\u001b[0;34m=\u001b[0m\u001b[0mschema\u001b[0m\u001b[0;34m)\u001b[0m\u001b[0;34m\u001b[0m\u001b[0;34m\u001b[0m\u001b[0m\n\u001b[0m\u001b[1;32m   1411\u001b[0m \u001b[0;34m\u001b[0m\u001b[0m\n\u001b[1;32m   1412\u001b[0m         \u001b[0mself\u001b[0m\u001b[0;34m.\u001b[0m\u001b[0mmeta\u001b[0m \u001b[0;34m=\u001b[0m \u001b[0mmeta\u001b[0m\u001b[0;34m\u001b[0m\u001b[0;34m\u001b[0m\u001b[0m\n",
      "\u001b[0;31mTypeError\u001b[0m: __init__() got multiple values for argument 'schema'"
     ]
    }
   ],
   "source": [
    "# Get data\n",
    "price = qdp.get(\n",
    "    table=\"PRICECHART_BY_DATE__KRX\",\n",
    "    symbols=[\"A005930\"],\n",
    "    start=\"2022-01-01\",\n",
    "    end=\"2022-02-01\"\n",
    ")"
   ]
  },
  {
   "cell_type": "code",
   "execution_count": null,
   "metadata": {},
   "outputs": [],
   "source": [
    "# Does it works well?\n",
    "price"
   ]
  },
  {
   "cell_type": "code",
   "execution_count": 10,
   "metadata": {},
   "outputs": [],
   "source": [
    "from pykrx import stock"
   ]
  },
  {
   "cell_type": "code",
   "execution_count": null,
   "metadata": {},
   "outputs": [],
   "source": [
    "# get stock_data.csv by ticker"
   ]
  }
 ],
 "metadata": {
  "kernelspec": {
   "display_name": "Python 3",
   "language": "python",
   "name": "python3"
  },
  "language_info": {
   "codemirror_mode": {
    "name": "ipython",
    "version": 3
   },
   "file_extension": ".py",
   "mimetype": "text/x-python",
   "name": "python",
   "nbconvert_exporter": "python",
   "pygments_lexer": "ipython3",
   "version": "3.7.9"
  },
  "orig_nbformat": 4,
  "vscode": {
   "interpreter": {
    "hash": "aee8b7b246df8f9039afb4144a1f6fd8d2ca17a180786b69acc140d282b71a49"
   }
  }
 },
 "nbformat": 4,
 "nbformat_minor": 2
}
