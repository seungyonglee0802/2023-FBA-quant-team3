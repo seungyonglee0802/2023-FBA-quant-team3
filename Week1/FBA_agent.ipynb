{
  "cells": [
    {
      "cell_type": "code",
      "execution_count": 38,
      "id": "AsgAGU45-nXS",
      "metadata": {
        "colab": {
          "base_uri": "https://localhost:8080/",
          "height": 660
        },
        "id": "AsgAGU45-nXS",
        "outputId": "d43afba0-5ced-4baa-8bcf-200c313390b4"
      },
      "outputs": [
        {
          "name": "stdout",
          "output_type": "stream",
          "text": [
            "Looking in indexes: https://pypi.org/simple, https://us-python.pkg.dev/colab-wheels/public/simple/\n",
            "Collecting yfinance==0.2.9\n",
            "  Downloading yfinance-0.2.9-py2.py3-none-any.whl (55 kB)\n",
            "\u001b[2K     \u001b[90m━━━━━━━━━━━━━━━━━━━━━━━━━━━━━━━━━━━━━━━━\u001b[0m \u001b[32m55.9/55.9 KB\u001b[0m \u001b[31m3.2 MB/s\u001b[0m eta \u001b[36m0:00:00\u001b[0m\n",
            "\u001b[?25hRequirement already satisfied: numpy>=1.16.5 in /usr/local/lib/python3.8/dist-packages (from yfinance==0.2.9) (1.21.6)\n",
            "Requirement already satisfied: lxml>=4.9.1 in /usr/local/lib/python3.8/dist-packages (from yfinance==0.2.9) (4.9.2)\n",
            "Requirement already satisfied: requests>=2.26 in /usr/local/lib/python3.8/dist-packages (from yfinance==0.2.9) (2.28.2)\n",
            "Requirement already satisfied: pandas>=1.3.0 in /usr/local/lib/python3.8/dist-packages (from yfinance==0.2.9) (1.3.5)\n",
            "Requirement already satisfied: frozendict>=2.3.4 in /usr/local/lib/python3.8/dist-packages (from yfinance==0.2.9) (2.3.4)\n",
            "Requirement already satisfied: pytz>=2022.5 in /usr/local/lib/python3.8/dist-packages (from yfinance==0.2.9) (2022.7.1)\n",
            "Requirement already satisfied: multitasking>=0.0.7 in /usr/local/lib/python3.8/dist-packages (from yfinance==0.2.9) (0.0.11)\n",
            "Requirement already satisfied: appdirs>=1.4.4 in /usr/local/lib/python3.8/dist-packages (from yfinance==0.2.9) (1.4.4)\n",
            "Requirement already satisfied: cryptography>=3.3.2 in /usr/local/lib/python3.8/dist-packages (from yfinance==0.2.9) (39.0.1)\n",
            "Requirement already satisfied: html5lib>=1.1 in /usr/local/lib/python3.8/dist-packages (from yfinance==0.2.9) (1.1)\n",
            "Requirement already satisfied: beautifulsoup4>=4.11.1 in /usr/local/lib/python3.8/dist-packages (from yfinance==0.2.9) (4.11.2)\n",
            "Requirement already satisfied: soupsieve>1.2 in /usr/local/lib/python3.8/dist-packages (from beautifulsoup4>=4.11.1->yfinance==0.2.9) (2.3.2.post1)\n",
            "Requirement already satisfied: cffi>=1.12 in /usr/local/lib/python3.8/dist-packages (from cryptography>=3.3.2->yfinance==0.2.9) (1.15.1)\n",
            "Requirement already satisfied: webencodings in /usr/local/lib/python3.8/dist-packages (from html5lib>=1.1->yfinance==0.2.9) (0.5.1)\n",
            "Requirement already satisfied: six>=1.9 in /usr/local/lib/python3.8/dist-packages (from html5lib>=1.1->yfinance==0.2.9) (1.15.0)\n",
            "Requirement already satisfied: python-dateutil>=2.7.3 in /usr/local/lib/python3.8/dist-packages (from pandas>=1.3.0->yfinance==0.2.9) (2.8.2)\n",
            "Requirement already satisfied: certifi>=2017.4.17 in /usr/local/lib/python3.8/dist-packages (from requests>=2.26->yfinance==0.2.9) (2022.12.7)\n",
            "Requirement already satisfied: urllib3<1.27,>=1.21.1 in /usr/local/lib/python3.8/dist-packages (from requests>=2.26->yfinance==0.2.9) (1.24.3)\n",
            "Requirement already satisfied: charset-normalizer<4,>=2 in /usr/local/lib/python3.8/dist-packages (from requests>=2.26->yfinance==0.2.9) (2.1.1)\n",
            "Requirement already satisfied: idna<4,>=2.5 in /usr/local/lib/python3.8/dist-packages (from requests>=2.26->yfinance==0.2.9) (2.10)\n",
            "Requirement already satisfied: pycparser in /usr/local/lib/python3.8/dist-packages (from cffi>=1.12->cryptography>=3.3.2->yfinance==0.2.9) (2.21)\n",
            "Installing collected packages: yfinance\n",
            "  Attempting uninstall: yfinance\n",
            "    Found existing installation: yfinance 0.2.11\n",
            "    Uninstalling yfinance-0.2.11:\n",
            "      Successfully uninstalled yfinance-0.2.11\n",
            "Successfully installed yfinance-0.2.9\n"
          ]
        },
        {
          "data": {
            "application/vnd.colab-display-data+json": {
              "pip_warning": {
                "packages": [
                  "yfinance"
                ]
              }
            }
          },
          "metadata": {},
          "output_type": "display_data"
        }
      ],
      "source": [
        "!pip3 install yfinance==0.2.9"
      ]
    },
    {
      "cell_type": "code",
      "execution_count": 39,
      "id": "kC2yq7NFvyDP",
      "metadata": {
        "id": "kC2yq7NFvyDP"
      },
      "outputs": [],
      "source": [
        "import pandas as pd\n",
        "import yfinance as yf"
      ]
    },
    {
      "cell_type": "code",
      "execution_count": 40,
      "id": "N6aRDmaqPyiN",
      "metadata": {
        "id": "N6aRDmaqPyiN"
      },
      "outputs": [],
      "source": [
        "TRANSAC_INFO = ['ticker', 'price', 'quantity']\n",
        "INFO_TYPE = [str, float, int]\n",
        "LENTH_INFO = len(TRANSAC_INFO)"
      ]
    },
    {
      "cell_type": "code",
      "execution_count": 95,
      "id": "4ca5dc70",
      "metadata": {
        "id": "4ca5dc70"
      },
      "outputs": [],
      "source": [
        "class Agent:\n",
        "\n",
        "    def __init__ (self, name=\"The agent\"):\n",
        "        \n",
        "        '''\n",
        "        create a agent with given name having $1000\n",
        "        \n",
        "        Arguments\n",
        "        name [str]: name of the agent (default: The agent)\n",
        "        '''\n",
        "        self.credit = 1000\n",
        "        self.holdings = pd.DataFrame(index=[\"avg_price\", \"num\"], dtype=\"float\")\n",
        "        self.name = name\n",
        "\n",
        "        print(f\"{self.name} is created.\")\n",
        "\n",
        "    def check(self):\n",
        "    \n",
        "        '''\n",
        "        print current state(credit and holdings) of the agent\n",
        "        '''\n",
        "        print(f\"credit : {self.credit}\")\n",
        "        print(f\"holding : {self.df_to_list(self.holdings)}\")\n",
        "    \n",
        "    def buy(self, buy_inform : list):\n",
        "        \n",
        "        '''\n",
        "        buy stocks according to buy_inform\n",
        "\n",
        "        Arguments\n",
        "        buy_inform [list]: information of the stock to buy [ticker : str, price : float|int, quantity : int]\n",
        "        '''\n",
        "        # check argement validation\n",
        "        if not isinstance(buy_inform, list):\n",
        "            raise TypeError('buy_inform must be a list')\n",
        "        if len(buy_inform) != LENTH_INFO:\n",
        "            raise ValueError(f'Unexpected length of buy_inform\\n\\\n",
        "                            buy_inform must have {LENTH_INFO} elements, {TRANSAC_INFO}')\n",
        "        if isinstance(buy_inform[1], int): buy_inform[1] = float(buy_inform[1])\n",
        "        for i in range(LENTH_INFO):\n",
        "            if not isinstance(buy_inform[i], INFO_TYPE[i]):\n",
        "                raise TypeError(f'{TRANSAC_INFO[i]} must be a {INFO_TYPE[i]}')\n",
        "\n",
        "        ticker, price, quantity = buy_inform\n",
        "        \n",
        "        # check validity of ticker\n",
        "        if not self.is_valid_ticker(ticker):\n",
        "            raise ValueError(f'{ticker} is not valid')\n",
        "        \n",
        "        # upper case\n",
        "        ticker = ticker.upper()\n",
        "\n",
        "        if price*quantity > self.credit:\n",
        "            print(f\"{self.name} can't buy.\")\n",
        "            return\n",
        "        \n",
        "        if ticker in self.holdings.columns:\n",
        "            ticker_holdings = self.holdings[ticker]\n",
        "            prev_avg_price = ticker_holdings[\"avg_price\"]\n",
        "            prev_num = ticker_holdings[\"num\"]\n",
        "            ticker_holdings[\"avg_price\"] = (prev_avg_price*prev_num + price*quantity)/(prev_num + quantity)\n",
        "            ticker_holdings[\"num\"] += quantity\n",
        "        else:\n",
        "            self.holdings[ticker] = [price, quantity]\n",
        "\n",
        "        self.credit -= price*quantity\n",
        "\n",
        "        print(f\"{self.name} buys {int(quantity)} {ticker} for {price}.\")\n",
        "        return\n",
        "\n",
        "    def sell(self, sell_inform : list):\n",
        "        \n",
        "        '''\n",
        "        sell stocks according to sell_inform\n",
        "\n",
        "        Arguments\n",
        "        sell_inform [list]: information of the stock to sell [ticker : str, price : float|int, quantity : int]\n",
        "        '''\n",
        "        # check argement validation\n",
        "        if not isinstance(sell_inform, list):\n",
        "            raise TypeError('sell_inform must be a list')\n",
        "        if len(sell_inform) != LENTH_INFO:\n",
        "            raise ValueError(f'Unexpected length of sell_inform\\n\\\n",
        "                            buy_inform must have {LENTH_INFO} elements, {TRANSAC_INFO}')\n",
        "        if isinstance(sell_inform[1], int): sell_inform[1] = float(sell_inform[1])\n",
        "        for i in range(LENTH_INFO):\n",
        "            if not isinstance(sell_inform[i], INFO_TYPE[i]):\n",
        "                raise TypeError(f'{TRANSAC_INFO[i]} must be a {INFO_TYPE[i]}')\n",
        "\n",
        "        ticker, price, quantity = sell_inform\n",
        "        \n",
        "        # check validity of ticker\n",
        "        if not self.is_valid_ticker(ticker):\n",
        "            raise ValueError(f'{ticker} is not valid')\n",
        "        \n",
        "        # upper case\n",
        "        ticker = ticker.upper()\n",
        "\n",
        "        if not ticker in self.holdings.columns or quantity > self.holdings[ticker][\"num\"]:\n",
        "            print(f\"{self.name} can't sell.\")\n",
        "            return\n",
        "        \n",
        "        ticker_holdings = self.holdings[ticker]\n",
        "        ticker_holdings[\"num\"] -= quantity\n",
        "        self.credit += price*quantity\n",
        "\n",
        "        print(f\"{self.name} sells {int(quantity)} {ticker} for {price}.\")\n",
        "        return\n",
        "\n",
        "    def df_to_list(self, df : pd.DataFrame):\n",
        "        '''\n",
        "        convert dataframe object to list\n",
        "\n",
        "        Arguments\n",
        "        df [pd.DataFrame]: DataFrame of holdings (index: avg_price, num; columns: tickers)\n",
        "        '''\n",
        "        return [ [ticker] + df[ticker].tolist() for ticker in df.columns]\n",
        "\n",
        "    def is_valid_ticker(self, ticker : str):\n",
        "        '''\n",
        "        check validity of the ticker\n",
        "        '''\n",
        "        yf_ticker = yf.Ticker(ticker)\n",
        "        if yf_ticker.info == None: \n",
        "            print(f\"{ticker} is not Valid.\")\n",
        "            return False\n",
        "        return True"
      ]
    },
    {
      "cell_type": "code",
      "execution_count": 96,
      "id": "5a8c007a",
      "metadata": {
        "colab": {
          "base_uri": "https://localhost:8080/"
        },
        "id": "5a8c007a",
        "outputId": "d57ecaa4-1314-4a8c-d39c-16b0ad24accc"
      },
      "outputs": [
        {
          "name": "stdout",
          "output_type": "stream",
          "text": [
            "The agent is created.\n"
          ]
        }
      ],
      "source": [
        "FBA_agent = Agent()"
      ]
    },
    {
      "cell_type": "code",
      "execution_count": 97,
      "id": "Iorah62NrCn_",
      "metadata": {
        "colab": {
          "base_uri": "https://localhost:8080/"
        },
        "id": "Iorah62NrCn_",
        "outputId": "3bb78366-c9df-4e56-e1f3-8541c494799b"
      },
      "outputs": [
        {
          "name": "stdout",
          "output_type": "stream",
          "text": [
            "credit : 1000\n",
            "holding : []\n"
          ]
        }
      ],
      "source": [
        "FBA_agent.check()"
      ]
    },
    {
      "cell_type": "code",
      "execution_count": 98,
      "id": "V1BTWrzMyghe",
      "metadata": {
        "colab": {
          "base_uri": "https://localhost:8080/"
        },
        "id": "V1BTWrzMyghe",
        "outputId": "01216470-7cb6-4868-d8cc-9527efc15ffb"
      },
      "outputs": [
        {
          "name": "stdout",
          "output_type": "stream",
          "text": [
            "The agent buys 5 AAPL for 135.0.\n"
          ]
        }
      ],
      "source": [
        "FBA_agent.buy(['AAPL', 135, 5])"
      ]
    },
    {
      "cell_type": "code",
      "execution_count": 99,
      "id": "CjDgrHYZzf26",
      "metadata": {
        "colab": {
          "base_uri": "https://localhost:8080/"
        },
        "id": "CjDgrHYZzf26",
        "outputId": "2147e0d0-c8c5-436f-fdaf-a32da528f06d"
      },
      "outputs": [
        {
          "name": "stdout",
          "output_type": "stream",
          "text": [
            "credit : 325.0\n",
            "holding : [['AAPL', 135.0, 5.0]]\n"
          ]
        }
      ],
      "source": [
        "FBA_agent.check()"
      ]
    },
    {
      "cell_type": "code",
      "execution_count": 100,
      "id": "fZTciYWLz_gq",
      "metadata": {
        "colab": {
          "base_uri": "https://localhost:8080/"
        },
        "id": "fZTciYWLz_gq",
        "outputId": "987f0b96-187a-4c01-e028-59f8f7b887a3"
      },
      "outputs": [
        {
          "name": "stdout",
          "output_type": "stream",
          "text": [
            "The agent can't buy.\n"
          ]
        }
      ],
      "source": [
        "FBA_agent.buy(['GOOGL', 2300, 1])"
      ]
    },
    {
      "cell_type": "code",
      "execution_count": 101,
      "id": "1qcwrarh0Ch2",
      "metadata": {
        "colab": {
          "base_uri": "https://localhost:8080/"
        },
        "id": "1qcwrarh0Ch2",
        "outputId": "5705d3e9-7ebd-4eef-de2a-bc2d1f192ff9"
      },
      "outputs": [
        {
          "name": "stdout",
          "output_type": "stream",
          "text": [
            "The agent sells 3 AAPL for 140.0.\n"
          ]
        }
      ],
      "source": [
        "FBA_agent.sell(['AAPL', 140, 3])"
      ]
    },
    {
      "cell_type": "code",
      "execution_count": 102,
      "id": "6mK9-57f0DgM",
      "metadata": {
        "colab": {
          "base_uri": "https://localhost:8080/"
        },
        "id": "6mK9-57f0DgM",
        "outputId": "7a24cab8-1e73-4bc9-c63a-df00fd4e4a53"
      },
      "outputs": [
        {
          "name": "stdout",
          "output_type": "stream",
          "text": [
            "credit : 745.0\n",
            "holding : [['AAPL', 135.0, 2.0]]\n"
          ]
        }
      ],
      "source": [
        "FBA_agent.check()"
      ]
    },
    {
      "cell_type": "code",
      "execution_count": 103,
      "id": "2y9dt98H8EEo",
      "metadata": {
        "colab": {
          "base_uri": "https://localhost:8080/"
        },
        "id": "2y9dt98H8EEo",
        "outputId": "613a1a87-1cff-4898-99e4-75736c5c1361"
      },
      "outputs": [
        {
          "name": "stdout",
          "output_type": "stream",
          "text": [
            "The agent buys 3 GOOGL for 210.0.\n"
          ]
        }
      ],
      "source": [
        "FBA_agent.buy(['GOOGL', 210, 3])"
      ]
    },
    {
      "cell_type": "code",
      "execution_count": 104,
      "id": "3LCnwCBx8I17",
      "metadata": {
        "colab": {
          "base_uri": "https://localhost:8080/"
        },
        "id": "3LCnwCBx8I17",
        "outputId": "174fd1b4-dbc9-43fd-9e5a-3a0a3b679878"
      },
      "outputs": [
        {
          "name": "stdout",
          "output_type": "stream",
          "text": [
            "credit : 115.0\n",
            "holding : [['AAPL', 135.0, 2.0], ['GOOGL', 210.0, 3.0]]\n"
          ]
        }
      ],
      "source": [
        "FBA_agent.check()"
      ]
    },
    {
      "cell_type": "code",
      "execution_count": 105,
      "id": "ElYxXviN-Iql",
      "metadata": {
        "colab": {
          "base_uri": "https://localhost:8080/"
        },
        "id": "ElYxXviN-Iql",
        "outputId": "a5cfdfb4-ef91-4916-c1b0-54b39fc0b7d1"
      },
      "outputs": [
        {
          "name": "stdout",
          "output_type": "stream",
          "text": [
            "The agent can't sell.\n"
          ]
        }
      ],
      "source": [
        "FBA_agent.sell(['AAPL', 140, 3])"
      ]
    },
    {
      "cell_type": "code",
      "execution_count": 106,
      "id": "o3XO_zTO-LoD",
      "metadata": {
        "colab": {
          "base_uri": "https://localhost:8080/"
        },
        "id": "o3XO_zTO-LoD",
        "outputId": "16ec9785-2879-452a-b984-43311063e832"
      },
      "outputs": [
        {
          "name": "stdout",
          "output_type": "stream",
          "text": [
            "credit : 115.0\n",
            "holding : [['AAPL', 135.0, 2.0], ['GOOGL', 210.0, 3.0]]\n"
          ]
        }
      ],
      "source": [
        "FBA_agent.check()"
      ]
    },
    {
      "cell_type": "code",
      "execution_count": 107,
      "id": "550DbUuh-Qqq",
      "metadata": {
        "colab": {
          "base_uri": "https://localhost:8080/"
        },
        "id": "550DbUuh-Qqq",
        "outputId": "9797bff9-4c14-44ca-8eb6-702b8c3a52ec"
      },
      "outputs": [
        {
          "name": "stdout",
          "output_type": "stream",
          "text": [
            "The agent can't sell.\n"
          ]
        }
      ],
      "source": [
        "FBA_agent.sell(['TSLA', 190, 3])"
      ]
    },
    {
      "cell_type": "code",
      "execution_count": 108,
      "id": "j57cVrT6YZuU",
      "metadata": {
        "colab": {
          "base_uri": "https://localhost:8080/"
        },
        "id": "j57cVrT6YZuU",
        "outputId": "0fba3d90-5481-419b-c33b-dd8db2bb9664"
      },
      "outputs": [
        {
          "name": "stdout",
          "output_type": "stream",
          "text": [
            "credit : 115.0\n",
            "holding : [['AAPL', 135.0, 2.0], ['GOOGL', 210.0, 3.0]]\n"
          ]
        }
      ],
      "source": [
        "FBA_agent.check()"
      ]
    },
    {
      "cell_type": "code",
      "execution_count": 109,
      "id": "dVP6UgC3AF4P",
      "metadata": {
        "colab": {
          "base_uri": "https://localhost:8080/",
          "height": 330
        },
        "id": "dVP6UgC3AF4P",
        "outputId": "f93709ca-496a-4da9-b0be-7cfae8b32409"
      },
      "outputs": [
        {
          "name": "stdout",
          "output_type": "stream",
          "text": [
            "SYLEE: No data found, symbol may be delisted\n",
            "SYLEE is not Valid.\n"
          ]
        },
        {
          "ename": "ValueError",
          "evalue": "ignored",
          "output_type": "error",
          "traceback": [
            "\u001b[0;31m---------------------------------------------------------------------------\u001b[0m",
            "\u001b[0;31mValueError\u001b[0m                                Traceback (most recent call last)",
            "\u001b[0;32m<ipython-input-109-ca35fc63a2d2>\u001b[0m in \u001b[0;36m<module>\u001b[0;34m\u001b[0m\n\u001b[0;32m----> 1\u001b[0;31m \u001b[0mFBA_agent\u001b[0m\u001b[0;34m.\u001b[0m\u001b[0mbuy\u001b[0m\u001b[0;34m(\u001b[0m\u001b[0;34m[\u001b[0m\u001b[0;34m'SYLEE'\u001b[0m\u001b[0;34m,\u001b[0m \u001b[0;36m210\u001b[0m\u001b[0;34m,\u001b[0m \u001b[0;36m3\u001b[0m\u001b[0;34m]\u001b[0m\u001b[0;34m)\u001b[0m\u001b[0;34m\u001b[0m\u001b[0;34m\u001b[0m\u001b[0m\n\u001b[0m",
            "\u001b[0;32m<ipython-input-95-7cf907078263>\u001b[0m in \u001b[0;36mbuy\u001b[0;34m(self, buy_inform)\u001b[0m\n\u001b[1;32m     46\u001b[0m         \u001b[0;31m# check validity of ticker\u001b[0m\u001b[0;34m\u001b[0m\u001b[0;34m\u001b[0m\u001b[0;34m\u001b[0m\u001b[0m\n\u001b[1;32m     47\u001b[0m         \u001b[0;32mif\u001b[0m \u001b[0;32mnot\u001b[0m \u001b[0mself\u001b[0m\u001b[0;34m.\u001b[0m\u001b[0mis_valid_ticker\u001b[0m\u001b[0;34m(\u001b[0m\u001b[0mticker\u001b[0m\u001b[0;34m)\u001b[0m\u001b[0;34m:\u001b[0m\u001b[0;34m\u001b[0m\u001b[0;34m\u001b[0m\u001b[0m\n\u001b[0;32m---> 48\u001b[0;31m             \u001b[0;32mraise\u001b[0m \u001b[0mValueError\u001b[0m\u001b[0;34m(\u001b[0m\u001b[0;34mf'{ticker} is not valid'\u001b[0m\u001b[0;34m)\u001b[0m\u001b[0;34m\u001b[0m\u001b[0;34m\u001b[0m\u001b[0m\n\u001b[0m\u001b[1;32m     49\u001b[0m \u001b[0;34m\u001b[0m\u001b[0m\n\u001b[1;32m     50\u001b[0m         \u001b[0;31m# upper case\u001b[0m\u001b[0;34m\u001b[0m\u001b[0;34m\u001b[0m\u001b[0;34m\u001b[0m\u001b[0m\n",
            "\u001b[0;31mValueError\u001b[0m: SYLEE is not valid"
          ]
        }
      ],
      "source": [
        "FBA_agent.buy(['SYLEE', 210, 3])"
      ]
    }
  ],
  "metadata": {
    "colab": {
      "provenance": []
    },
    "kernelspec": {
      "display_name": "Python 3",
      "language": "python",
      "name": "python3"
    },
    "language_info": {
      "codemirror_mode": {
        "name": "ipython",
        "version": 3
      },
      "file_extension": ".py",
      "mimetype": "text/x-python",
      "name": "python",
      "nbconvert_exporter": "python",
      "pygments_lexer": "ipython3",
      "version": "3.7.9"
    },
    "vscode": {
      "interpreter": {
        "hash": "aee8b7b246df8f9039afb4144a1f6fd8d2ca17a180786b69acc140d282b71a49"
      }
    }
  },
  "nbformat": 4,
  "nbformat_minor": 5
}
