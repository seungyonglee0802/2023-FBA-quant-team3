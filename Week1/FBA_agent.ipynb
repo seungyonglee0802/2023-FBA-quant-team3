{
  "cells": [
    {
      "cell_type": "code",
      "source": [
        "!pip3 install yfinance"
      ],
      "metadata": {
        "id": "AsgAGU45-nXS",
        "outputId": "5f6dd218-1b50-4eec-fb03-e289a944bdca",
        "colab": {
          "base_uri": "https://localhost:8080/"
        }
      },
      "id": "AsgAGU45-nXS",
      "execution_count": null,
      "outputs": [
        {
          "output_type": "stream",
          "name": "stdout",
          "text": [
            "Looking in indexes: https://pypi.org/simple, https://us-python.pkg.dev/colab-wheels/public/simple/\n",
            "Requirement already satisfied: yfinance in /usr/local/lib/python3.8/dist-packages (0.2.9)\n",
            "Requirement already satisfied: lxml>=4.9.1 in /usr/local/lib/python3.8/dist-packages (from yfinance) (4.9.2)\n",
            "Requirement already satisfied: beautifulsoup4>=4.11.1 in /usr/local/lib/python3.8/dist-packages (from yfinance) (4.11.2)\n",
            "Requirement already satisfied: cryptography>=3.3.2 in /usr/local/lib/python3.8/dist-packages (from yfinance) (39.0.0)\n",
            "Requirement already satisfied: frozendict>=2.3.4 in /usr/local/lib/python3.8/dist-packages (from yfinance) (2.3.4)\n",
            "Requirement already satisfied: pandas>=1.3.0 in /usr/local/lib/python3.8/dist-packages (from yfinance) (1.3.5)\n",
            "Requirement already satisfied: pytz>=2022.5 in /usr/local/lib/python3.8/dist-packages (from yfinance) (2022.7.1)\n",
            "Requirement already satisfied: html5lib>=1.1 in /usr/local/lib/python3.8/dist-packages (from yfinance) (1.1)\n",
            "Requirement already satisfied: appdirs>=1.4.4 in /usr/local/lib/python3.8/dist-packages (from yfinance) (1.4.4)\n",
            "Requirement already satisfied: requests>=2.26 in /usr/local/lib/python3.8/dist-packages (from yfinance) (2.28.2)\n",
            "Requirement already satisfied: multitasking>=0.0.7 in /usr/local/lib/python3.8/dist-packages (from yfinance) (0.0.11)\n",
            "Requirement already satisfied: numpy>=1.16.5 in /usr/local/lib/python3.8/dist-packages (from yfinance) (1.21.6)\n",
            "Requirement already satisfied: soupsieve>1.2 in /usr/local/lib/python3.8/dist-packages (from beautifulsoup4>=4.11.1->yfinance) (2.3.2.post1)\n",
            "Requirement already satisfied: cffi>=1.12 in /usr/local/lib/python3.8/dist-packages (from cryptography>=3.3.2->yfinance) (1.15.1)\n",
            "Requirement already satisfied: webencodings in /usr/local/lib/python3.8/dist-packages (from html5lib>=1.1->yfinance) (0.5.1)\n",
            "Requirement already satisfied: six>=1.9 in /usr/local/lib/python3.8/dist-packages (from html5lib>=1.1->yfinance) (1.15.0)\n",
            "Requirement already satisfied: python-dateutil>=2.7.3 in /usr/local/lib/python3.8/dist-packages (from pandas>=1.3.0->yfinance) (2.8.2)\n",
            "Requirement already satisfied: urllib3<1.27,>=1.21.1 in /usr/local/lib/python3.8/dist-packages (from requests>=2.26->yfinance) (1.24.3)\n",
            "Requirement already satisfied: certifi>=2017.4.17 in /usr/local/lib/python3.8/dist-packages (from requests>=2.26->yfinance) (2022.12.7)\n",
            "Requirement already satisfied: charset-normalizer<4,>=2 in /usr/local/lib/python3.8/dist-packages (from requests>=2.26->yfinance) (2.1.1)\n",
            "Requirement already satisfied: idna<4,>=2.5 in /usr/local/lib/python3.8/dist-packages (from requests>=2.26->yfinance) (2.10)\n",
            "Requirement already satisfied: pycparser in /usr/local/lib/python3.8/dist-packages (from cffi>=1.12->cryptography>=3.3.2->yfinance) (2.21)\n"
          ]
        }
      ]
    },
    {
      "cell_type": "code",
      "source": [
        "import pandas as pd\n",
        "import yfinance as yf"
      ],
      "metadata": {
        "id": "kC2yq7NFvyDP"
      },
      "id": "kC2yq7NFvyDP",
      "execution_count": null,
      "outputs": []
    },
    {
      "cell_type": "code",
      "execution_count": null,
      "id": "4ca5dc70",
      "metadata": {
        "id": "4ca5dc70"
      },
      "outputs": [],
      "source": [
        "class Agent:\n",
        "\n",
        "    def __init__ (self, name=\"The agent\"):\n",
        "        \n",
        "        '''\n",
        "        create a agent with given name having $1000\n",
        "        \n",
        "        Arguments\n",
        "        name [str]: name of the agent (default: The agent)\n",
        "        '''\n",
        "        self.credit = 1000\n",
        "        self.holdings = pd.DataFrame(index=[\"avg_price\", \"num\"], dtype=\"float\")\n",
        "        self.name = name\n",
        "\n",
        "        print(f\"{self.name} is created.\")\n",
        "\n",
        "    def check(self):\n",
        "    \n",
        "        '''\n",
        "        print current state(credit and holdings) of the agent\n",
        "        '''\n",
        "        print(f\"credit : {self.credit}\")\n",
        "        print(f\"holding : {self.df_to_list(self.holdings)}\")\n",
        "    \n",
        "    def buy(self, buy_inform : list):\n",
        "        \n",
        "        '''\n",
        "        buy stocks according to buy_inform\n",
        "\n",
        "        Arguments\n",
        "        buy_inform [list]: information of the stock to buy [ticker : str, price : float|int, quantity : int]\n",
        "        '''\n",
        "        # check argement validation\n",
        "        assert type(buy_inform) == list and len(buy_inform) == 3\n",
        "        ticker, price, num = buy_inform\n",
        "        if type(price) == int: price = float(price)\n",
        "        assert type(ticker) == str and type(price) == float and type(num) == int\n",
        "        assert self.is_valid_ticker(ticker)\n",
        "        \n",
        "        if price*num > self.credit:\n",
        "            print(f\"{self.name} can't buy.\")\n",
        "            return\n",
        "        \n",
        "        if ticker in self.holdings.columns:\n",
        "            ticker_holdings = self.holdings[ticker]\n",
        "            prev_avg_price = ticker_holdings[\"avg_price\"]\n",
        "            prev_num = ticker_holdings[\"num\"]\n",
        "            ticker_holdings[\"avg_price\"] = (prev_avg_price*prev_num + price*num)/(prev_num + num)\n",
        "            ticker_holdings[\"num\"] += num\n",
        "        else:\n",
        "            self.holdings[ticker] = [price, num]\n",
        "\n",
        "        self.credit -= price*num\n",
        "\n",
        "        print(f\"{self.name} buys {int(num)} {ticker} for {price}.\")\n",
        "        return\n",
        "\n",
        "    def sell(self, sell_inform : list):\n",
        "        \n",
        "        '''\n",
        "        sell stocks according to sell_inform\n",
        "\n",
        "        Arguments\n",
        "        sell_inform [list]: information of the stock to sell [ticker : str, price : float|int, quantity : int]\n",
        "        '''\n",
        "        # check argement validation\n",
        "        assert type(sell_inform) == list and len(sell_inform) == 3\n",
        "        ticker, price, num = sell_inform\n",
        "        if type(price) == int: price = float(price)\n",
        "        assert type(ticker) == str and type(price) == float and type(num) == int\n",
        "        assert self.is_valid_ticker(ticker)\n",
        "\n",
        "        if not ticker in self.holdings.columns or num > self.holdings[ticker][\"num\"]:\n",
        "            print(f\"{self.name} can't sell.\")\n",
        "            return\n",
        "        \n",
        "        ticker_holdings = self.holdings[ticker]\n",
        "        ticker_holdings[\"num\"] -= num\n",
        "        self.credit += price*num\n",
        "\n",
        "        print(f\"{self.name} sells {int(num)} {ticker} for {price}.\")\n",
        "        return\n",
        "\n",
        "    def df_to_list(self, df : pd.DataFrame):\n",
        "        '''\n",
        "        convert dataframe object to list\n",
        "\n",
        "        Arguments\n",
        "        df [pd.DataFrame]: DataFrame of holdings (index: avg_price, num; columns: tickers)\n",
        "        '''\n",
        "        return [ [ticker] + df[ticker].tolist() for ticker in df.columns]\n",
        "\n",
        "    def is_valid_ticker(self, ticker : str):\n",
        "        '''\n",
        "        check validity of the ticker\n",
        "        '''\n",
        "        yf_ticker = yf.Ticker(ticker)\n",
        "        if yf_ticker.info == None: \n",
        "            print(f\"{ticker} is not Valid.\")\n",
        "            return False\n",
        "        return True"
      ]
    },
    {
      "cell_type": "code",
      "execution_count": null,
      "id": "5a8c007a",
      "metadata": {
        "colab": {
          "base_uri": "https://localhost:8080/"
        },
        "id": "5a8c007a",
        "outputId": "e91a2495-954a-4ae3-ed3a-6f933f6558ab"
      },
      "outputs": [
        {
          "output_type": "stream",
          "name": "stdout",
          "text": [
            "The agent is created.\n"
          ]
        }
      ],
      "source": [
        "FBA_agent = Agent()"
      ]
    },
    {
      "cell_type": "code",
      "source": [
        "FBA_agent.check()"
      ],
      "metadata": {
        "colab": {
          "base_uri": "https://localhost:8080/"
        },
        "id": "Iorah62NrCn_",
        "outputId": "e43d3443-c407-4ab9-f19b-6551272e8349"
      },
      "id": "Iorah62NrCn_",
      "execution_count": null,
      "outputs": [
        {
          "output_type": "stream",
          "name": "stdout",
          "text": [
            "credit : 1000\n",
            "holding : []\n"
          ]
        }
      ]
    },
    {
      "cell_type": "code",
      "source": [
        "FBA_agent.buy(['AAPL', 135, 5])"
      ],
      "metadata": {
        "colab": {
          "base_uri": "https://localhost:8080/"
        },
        "id": "V1BTWrzMyghe",
        "outputId": "909e03a0-f565-4a21-fb3d-c69daccfb138"
      },
      "id": "V1BTWrzMyghe",
      "execution_count": null,
      "outputs": [
        {
          "output_type": "stream",
          "name": "stdout",
          "text": [
            "The agent buys 5 AAPL for 135.0.\n"
          ]
        }
      ]
    },
    {
      "cell_type": "code",
      "source": [
        "FBA_agent.check()"
      ],
      "metadata": {
        "colab": {
          "base_uri": "https://localhost:8080/"
        },
        "id": "CjDgrHYZzf26",
        "outputId": "54951655-3776-458f-e6db-ac000a5f1372"
      },
      "id": "CjDgrHYZzf26",
      "execution_count": null,
      "outputs": [
        {
          "output_type": "stream",
          "name": "stdout",
          "text": [
            "credit : 325.0\n",
            "holding : [['AAPL', 135.0, 5.0]]\n"
          ]
        }
      ]
    },
    {
      "cell_type": "code",
      "source": [
        "FBA_agent.buy(['GOOGL', 2300, 1])"
      ],
      "metadata": {
        "colab": {
          "base_uri": "https://localhost:8080/"
        },
        "id": "fZTciYWLz_gq",
        "outputId": "a807c104-2dc0-403b-8fb2-81e4c2658a2c"
      },
      "id": "fZTciYWLz_gq",
      "execution_count": null,
      "outputs": [
        {
          "output_type": "stream",
          "name": "stdout",
          "text": [
            "The agent can't buy.\n"
          ]
        }
      ]
    },
    {
      "cell_type": "code",
      "source": [
        "FBA_agent.sell(['AAPL', 140, 3])"
      ],
      "metadata": {
        "colab": {
          "base_uri": "https://localhost:8080/"
        },
        "id": "1qcwrarh0Ch2",
        "outputId": "dcb6cedd-0763-4b20-f3fa-f344152674af"
      },
      "id": "1qcwrarh0Ch2",
      "execution_count": null,
      "outputs": [
        {
          "output_type": "stream",
          "name": "stdout",
          "text": [
            "The agent sells 3 AAPL for 140.0.\n"
          ]
        }
      ]
    },
    {
      "cell_type": "code",
      "source": [
        "FBA_agent.check()"
      ],
      "metadata": {
        "colab": {
          "base_uri": "https://localhost:8080/"
        },
        "id": "6mK9-57f0DgM",
        "outputId": "4f4b3823-da9d-40f7-d6c7-5690363b7e01"
      },
      "id": "6mK9-57f0DgM",
      "execution_count": null,
      "outputs": [
        {
          "output_type": "stream",
          "name": "stdout",
          "text": [
            "credit : 745.0\n",
            "holding : [['AAPL', 135.0, 2.0]]\n"
          ]
        }
      ]
    },
    {
      "cell_type": "code",
      "source": [
        "FBA_agent.buy(['GOOGL', 210, 3])"
      ],
      "metadata": {
        "colab": {
          "base_uri": "https://localhost:8080/"
        },
        "id": "2y9dt98H8EEo",
        "outputId": "052e717d-0a33-4e8f-d497-0a83e4c89c34"
      },
      "id": "2y9dt98H8EEo",
      "execution_count": null,
      "outputs": [
        {
          "output_type": "stream",
          "name": "stdout",
          "text": [
            "The agent buys 3 GOOGL for 210.0.\n"
          ]
        }
      ]
    },
    {
      "cell_type": "code",
      "source": [
        "FBA_agent.check()"
      ],
      "metadata": {
        "colab": {
          "base_uri": "https://localhost:8080/"
        },
        "id": "3LCnwCBx8I17",
        "outputId": "ff3d9ec6-7302-4ee7-9c1a-a5fabdf54520"
      },
      "id": "3LCnwCBx8I17",
      "execution_count": null,
      "outputs": [
        {
          "output_type": "stream",
          "name": "stdout",
          "text": [
            "credit : 115.0\n",
            "holding : [['AAPL', 135.0, 2.0], ['GOOGL', 210.0, 3.0]]\n"
          ]
        }
      ]
    },
    {
      "cell_type": "code",
      "source": [
        "FBA_agent.sell(['AAPL', 140, 3])"
      ],
      "metadata": {
        "colab": {
          "base_uri": "https://localhost:8080/"
        },
        "id": "ElYxXviN-Iql",
        "outputId": "1b803f74-3e6c-4bc7-af33-d82dd0a781ab"
      },
      "id": "ElYxXviN-Iql",
      "execution_count": null,
      "outputs": [
        {
          "output_type": "stream",
          "name": "stdout",
          "text": [
            "The agent can't sell.\n"
          ]
        }
      ]
    },
    {
      "cell_type": "code",
      "source": [
        "FBA_agent.check()"
      ],
      "metadata": {
        "colab": {
          "base_uri": "https://localhost:8080/"
        },
        "id": "o3XO_zTO-LoD",
        "outputId": "b145e285-6d53-4410-ea01-820c46dc9704"
      },
      "id": "o3XO_zTO-LoD",
      "execution_count": null,
      "outputs": [
        {
          "output_type": "stream",
          "name": "stdout",
          "text": [
            "credit : 115.0\n",
            "holding : [['AAPL', 135.0, 2.0], ['GOOGL', 210.0, 3.0]]\n"
          ]
        }
      ]
    },
    {
      "cell_type": "code",
      "source": [
        "FBA_agent.sell(['TSLA', 190, 3])"
      ],
      "metadata": {
        "colab": {
          "base_uri": "https://localhost:8080/"
        },
        "id": "550DbUuh-Qqq",
        "outputId": "f36f87ee-1dde-4bca-fd1d-def64424031d"
      },
      "id": "550DbUuh-Qqq",
      "execution_count": null,
      "outputs": [
        {
          "output_type": "stream",
          "name": "stdout",
          "text": [
            "The agent can't sell.\n"
          ]
        }
      ]
    },
    {
      "cell_type": "code",
      "source": [
        "FBA_agent.buy(['SYLEE', 210, 3])"
      ],
      "metadata": {
        "colab": {
          "base_uri": "https://localhost:8080/",
          "height": 322
        },
        "id": "dVP6UgC3AF4P",
        "outputId": "5d6aa167-49fc-447c-d58e-ff0f94796351"
      },
      "id": "dVP6UgC3AF4P",
      "execution_count": null,
      "outputs": [
        {
          "output_type": "stream",
          "name": "stdout",
          "text": [
            "- SYLEE: No summary info found, symbol may be delisted\n",
            "SYLEE is not Valid.\n"
          ]
        },
        {
          "output_type": "error",
          "ename": "AssertionError",
          "evalue": "ignored",
          "traceback": [
            "\u001b[0;31m---------------------------------------------------------------------------\u001b[0m",
            "\u001b[0;31mAssertionError\u001b[0m                            Traceback (most recent call last)",
            "\u001b[0;32m<ipython-input-172-ca35fc63a2d2>\u001b[0m in \u001b[0;36m<module>\u001b[0;34m\u001b[0m\n\u001b[0;32m----> 1\u001b[0;31m \u001b[0mFBA_agent\u001b[0m\u001b[0;34m.\u001b[0m\u001b[0mbuy\u001b[0m\u001b[0;34m(\u001b[0m\u001b[0;34m[\u001b[0m\u001b[0;34m'SYLEE'\u001b[0m\u001b[0;34m,\u001b[0m \u001b[0;36m210\u001b[0m\u001b[0;34m,\u001b[0m \u001b[0;36m3\u001b[0m\u001b[0;34m]\u001b[0m\u001b[0;34m)\u001b[0m\u001b[0;34m\u001b[0m\u001b[0;34m\u001b[0m\u001b[0m\n\u001b[0m",
            "\u001b[0;32m<ipython-input-158-ec62d1e603c0>\u001b[0m in \u001b[0;36mbuy\u001b[0;34m(self, buy_inform)\u001b[0m\n\u001b[1;32m     36\u001b[0m         \u001b[0;32mif\u001b[0m \u001b[0mtype\u001b[0m\u001b[0;34m(\u001b[0m\u001b[0mprice\u001b[0m\u001b[0;34m)\u001b[0m \u001b[0;34m==\u001b[0m \u001b[0mint\u001b[0m\u001b[0;34m:\u001b[0m \u001b[0mprice\u001b[0m \u001b[0;34m=\u001b[0m \u001b[0mfloat\u001b[0m\u001b[0;34m(\u001b[0m\u001b[0mprice\u001b[0m\u001b[0;34m)\u001b[0m\u001b[0;34m\u001b[0m\u001b[0;34m\u001b[0m\u001b[0m\n\u001b[1;32m     37\u001b[0m         \u001b[0;32massert\u001b[0m \u001b[0mtype\u001b[0m\u001b[0;34m(\u001b[0m\u001b[0mticker\u001b[0m\u001b[0;34m)\u001b[0m \u001b[0;34m==\u001b[0m \u001b[0mstr\u001b[0m \u001b[0;32mand\u001b[0m \u001b[0mtype\u001b[0m\u001b[0;34m(\u001b[0m\u001b[0mprice\u001b[0m\u001b[0;34m)\u001b[0m \u001b[0;34m==\u001b[0m \u001b[0mfloat\u001b[0m \u001b[0;32mand\u001b[0m \u001b[0mtype\u001b[0m\u001b[0;34m(\u001b[0m\u001b[0mnum\u001b[0m\u001b[0;34m)\u001b[0m \u001b[0;34m==\u001b[0m \u001b[0mint\u001b[0m\u001b[0;34m\u001b[0m\u001b[0;34m\u001b[0m\u001b[0m\n\u001b[0;32m---> 38\u001b[0;31m         \u001b[0;32massert\u001b[0m \u001b[0mself\u001b[0m\u001b[0;34m.\u001b[0m\u001b[0mis_valid_ticker\u001b[0m\u001b[0;34m(\u001b[0m\u001b[0mticker\u001b[0m\u001b[0;34m)\u001b[0m\u001b[0;34m\u001b[0m\u001b[0;34m\u001b[0m\u001b[0m\n\u001b[0m\u001b[1;32m     39\u001b[0m \u001b[0;34m\u001b[0m\u001b[0m\n\u001b[1;32m     40\u001b[0m         \u001b[0;32mif\u001b[0m \u001b[0mprice\u001b[0m\u001b[0;34m*\u001b[0m\u001b[0mnum\u001b[0m \u001b[0;34m>\u001b[0m \u001b[0mself\u001b[0m\u001b[0;34m.\u001b[0m\u001b[0mcredit\u001b[0m\u001b[0;34m:\u001b[0m\u001b[0;34m\u001b[0m\u001b[0;34m\u001b[0m\u001b[0m\n",
            "\u001b[0;31mAssertionError\u001b[0m: "
          ]
        }
      ]
    }
  ],
  "metadata": {
    "kernelspec": {
      "display_name": "Python 3 (ipykernel)",
      "language": "python",
      "name": "python3"
    },
    "language_info": {
      "codemirror_mode": {
        "name": "ipython",
        "version": 3
      },
      "file_extension": ".py",
      "mimetype": "text/x-python",
      "name": "python",
      "nbconvert_exporter": "python",
      "pygments_lexer": "ipython3",
      "version": "3.9.7"
    },
    "colab": {
      "provenance": []
    }
  },
  "nbformat": 4,
  "nbformat_minor": 5
}