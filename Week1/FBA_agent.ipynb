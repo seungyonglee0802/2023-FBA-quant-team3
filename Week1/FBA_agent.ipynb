{
 "cells": [
  {
   "cell_type": "code",
   "execution_count": null,
   "id": "4ca5dc70",
   "metadata": {},
   "outputs": [],
   "source": [
    "class Agent:\n",
    "\n",
    "    def __init__ (self, name):\n",
    "        \n",
    "        '''\n",
    "        (a) Add code of object variables and message that agent was created.\n",
    "        '''\n",
    "    \n",
    "    def check(self):\n",
    "    \n",
    "        '''\n",
    "        (b) Add code of messages indicating the credit and holding status.\n",
    "        '''\n",
    "    \n",
    "    def buy(self, buy_inform):\n",
    "        \n",
    "        '''\n",
    "        (c) Add code to receive incoming information as object variables.\n",
    "        Print a transaction confirmation message based on the orderable condition.\n",
    "        '''\n",
    "    \n",
    "    def sell(self, sell_inform):\n",
    "        \n",
    "        '''\n",
    "        (d) Add code to receive incoming information as object variables.\n",
    "        Print a transaction confirmation message based on the orderable condition.\n",
    "        '''"
   ]
  },
  {
   "cell_type": "code",
   "execution_count": null,
   "id": "5a8c007a",
   "metadata": {},
   "outputs": [],
   "source": [
    "'''\n",
    "(e) Add code to create 'FBA_agent' object and add execute an order.\n",
    "'''"
   ]
  }
 ],
 "metadata": {
  "kernelspec": {
   "display_name": "Python 3 (ipykernel)",
   "language": "python",
   "name": "python3"
  },
  "language_info": {
   "codemirror_mode": {
    "name": "ipython",
    "version": 3
   },
   "file_extension": ".py",
   "mimetype": "text/x-python",
   "name": "python",
   "nbconvert_exporter": "python",
   "pygments_lexer": "ipython3",
   "version": "3.9.7"
  }
 },
 "nbformat": 4,
 "nbformat_minor": 5
}
